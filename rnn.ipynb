{
 "cells": [
  {
   "cell_type": "code",
   "execution_count": 1,
   "metadata": {},
   "outputs": [],
   "source": [
    "import numpy as np\n",
    "import tensorflow as tf"
   ]
  },
  {
   "cell_type": "code",
   "execution_count": 2,
   "metadata": {},
   "outputs": [],
   "source": [
    "filename = \"data.txt\"\n",
    "a_list = []\n",
    "b_list = []\n",
    "c_list = []"
   ]
  },
  {
   "cell_type": "code",
   "execution_count": 3,
   "metadata": {},
   "outputs": [],
   "source": [
    "def str_2_list(data_list):\n",
    "    ret_list = []\n",
    "    for i in range(len(data_list)):\n",
    "        tmp_list = data_list[i].strip().split(\" \")\n",
    "        tmp_ret_list = [int(tmp_list[7][0]),int(tmp_list[6]),int(tmp_list[5]),int(tmp_list[4]),int(tmp_list[3]),int(tmp_list[2]),int(tmp_list[1]),int(tmp_list[0][1])] #changed\n",
    "        ret_list.append(tmp_ret_list)\n",
    "    return ret_list"
   ]
  },
  {
   "cell_type": "code",
   "execution_count": 4,
   "metadata": {},
   "outputs": [],
   "source": [
    "with open(filename, \"r\") as file:\n",
    "    filein = file.read().splitlines()\n",
    "    for item in filein:\n",
    "        tmp_list = item.strip().split(\",\")\n",
    "        a_list.append(tmp_list[0])\n",
    "        b_list.append(tmp_list[1])\n",
    "        c_list.append(tmp_list[2])"
   ]
  },
  {
   "cell_type": "code",
   "execution_count": 5,
   "metadata": {},
   "outputs": [],
   "source": [
    "a_list = str_2_list(a_list)\n",
    "b_list = str_2_list(b_list)\n",
    "c_list = str_2_list(c_list)"
   ]
  },
  {
   "cell_type": "code",
   "execution_count": 6,
   "metadata": {},
   "outputs": [],
   "source": [
    "# Define the dataflow graph\n",
    "time_steps = 8        # time steps which is the same as the length of the bit-string\n",
    "input_dim = 2         # number of units in the input layer\n",
    "hidden_dim = 7       # number of units in the hidden layer\n",
    "output_dim = 1        # number of units in the output layer\n",
    "binary_dim = 8\n",
    "largest_number = pow(2, binary_dim)"
   ]
  },
  {
   "cell_type": "code",
   "execution_count": 7,
   "metadata": {},
   "outputs": [],
   "source": [
    "tf.reset_default_graph()\n",
    "# input X and target ouput Y\n",
    "X = tf.placeholder(tf.float32, [None, time_steps, input_dim], name='x')\n",
    "Y = tf.placeholder(tf.float32, [None, time_steps], name='y')"
   ]
  },
  {
   "cell_type": "code",
   "execution_count": null,
   "metadata": {},
   "outputs": [],
   "source": []
  }
 ],
 "metadata": {
  "kernelspec": {
   "display_name": "Python 3",
   "language": "python",
   "name": "python3"
  },
  "language_info": {
   "codemirror_mode": {
    "name": "ipython",
    "version": 3
   },
   "file_extension": ".py",
   "mimetype": "text/x-python",
   "name": "python",
   "nbconvert_exporter": "python",
   "pygments_lexer": "ipython3",
   "version": "3.6.6"
  }
 },
 "nbformat": 4,
 "nbformat_minor": 2
}
